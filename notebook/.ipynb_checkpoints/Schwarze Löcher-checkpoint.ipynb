{
 "cells": [
  {
   "cell_type": "code",
   "execution_count": 6,
   "id": "6dde1246-9e1b-4f0c-acef-6973ca33a5c0",
   "metadata": {},
   "outputs": [],
   "source": [
    "from sympy import symbols, Eq, solve, simplify\n",
    "from sympy.physics.units import meter, second, kilogram, joule, convert_to\n",
    "\n",
    "c = 299792458 * (meter / second)\n",
    "G = 6.67430 * pow(10, -11) * (pow(meter, 3) / (kilogram * pow(second, 2)))"
   ]
  },
  {
   "cell_type": "code",
   "execution_count": 2,
   "id": "74916cb2-07b7-47f6-bd87-cd2598bf91ed",
   "metadata": {},
   "outputs": [],
   "source": [
    "class BlackHole():\n",
    "    def __init__(self, M, R, a = 0):\n",
    "        self.mass = M\n",
    "        self.radius = R\n",
    "        self.specificTorque = a\n",
    "\n",
    "    def density()"
   ]
  }
 ],
 "metadata": {
  "kernelspec": {
   "display_name": "Python 3 (ipykernel)",
   "language": "python",
   "name": "python3"
  },
  "language_info": {
   "codemirror_mode": {
    "name": "ipython",
    "version": 3
   },
   "file_extension": ".py",
   "mimetype": "text/x-python",
   "name": "python",
   "nbconvert_exporter": "python",
   "pygments_lexer": "ipython3",
   "version": "3.12.3"
  }
 },
 "nbformat": 4,
 "nbformat_minor": 5
}
