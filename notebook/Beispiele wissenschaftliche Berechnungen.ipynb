{
 "cells": [
  {
   "cell_type": "markdown",
   "id": "fb866d79-1183-4aa8-b990-3cdecbdc10bf",
   "metadata": {},
   "source": [
    "# SymPy: Gleichungen, Einheiten und deren Berechnung"
   ]
  },
  {
   "cell_type": "code",
   "execution_count": 24,
   "id": "26a19a3a-7713-44bb-9164-43c0c990e57e",
   "metadata": {},
   "outputs": [],
   "source": [
    "from sympy import symbols, Eq, solve, simplify\n",
    "from sympy.physics.units import meter, second, kilogram, joule, convert_to"
   ]
  },
  {
   "cell_type": "code",
   "execution_count": 25,
   "id": "3e30c60b-e543-4784-8b54-5f1f91ae28bd",
   "metadata": {},
   "outputs": [],
   "source": [
    "M, r = symbols(\"mass schwarzschildRadius\")\n",
    "\n",
    "c = 299792458 * (meter / second)\n",
    "G = 6.67430 * pow(10, -11) * (pow(meter, 3) / (kilogram * pow(second, 2)))\n",
    "\n",
    "calcSchwarzschildRadius = Eq((2 * G * M) / pow(c, 2), r)"
   ]
  },
  {
   "cell_type": "code",
   "execution_count": 26,
   "id": "b6b9fd74-8da5-4267-b221-4460962501ed",
   "metadata": {},
   "outputs": [
    {
     "name": "stdout",
     "output_type": "stream",
     "text": [
      "Eq(0.00886980582543533*meter, schwarzschildRadius)\n"
     ]
    }
   ],
   "source": [
    "mCalc = 5.972 * pow(10, 24) * kilogram\n",
    "\n",
    "rCalc = calcSchwarzschildRadius.subs({M: mCalc}).evalf()\n",
    "\n",
    "print(rCalc)"
   ]
  },
  {
   "cell_type": "markdown",
   "id": "a79a9f6c-007e-4dc6-b309-c54fef432340",
   "metadata": {},
   "source": [
    "## Umformung und Berechnung"
   ]
  },
  {
   "cell_type": "code",
   "execution_count": 39,
   "id": "d36edf41-2c66-45bf-83ba-241f43f3ccff",
   "metadata": {},
   "outputs": [
    {
     "name": "stdout",
     "output_type": "stream",
     "text": [
      "pi*radius**2\n",
      "[-sqrt(area)/sqrt(pi), sqrt(area)/sqrt(pi)]\n",
      "Radius für Fläche 78.54: 5.00000000000000\n"
     ]
    }
   ],
   "source": [
    "from sympy import pi\n",
    "\n",
    "r, A = symbols(\"radius area\")\n",
    "\n",
    "calcKreisfläche = pi * pow(r, 2)\n",
    "# Man muss nicht zwingend ein Eq-Objekt verwenden\n",
    "\n",
    "calcRadius = solve(calcKreisfläche -A, r)\n",
    "\n",
    "print(calcKreisfläche)\n",
    "print(calcRadius)\n",
    "\n",
    "radius = calcRadius[1].subs(A, 5**2 * pi).evalf()\n",
    "\n",
    "# Ausgabe\n",
    "print(f\"Radius für Fläche 78.54: {radius}\")"
   ]
  }
 ],
 "metadata": {
  "kernelspec": {
   "display_name": "Python 3 (ipykernel)",
   "language": "python",
   "name": "python3"
  },
  "language_info": {
   "codemirror_mode": {
    "name": "ipython",
    "version": 3
   },
   "file_extension": ".py",
   "mimetype": "text/x-python",
   "name": "python",
   "nbconvert_exporter": "python",
   "pygments_lexer": "ipython3",
   "version": "3.12.3"
  }
 },
 "nbformat": 4,
 "nbformat_minor": 5
}
