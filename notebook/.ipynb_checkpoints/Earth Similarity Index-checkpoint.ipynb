{
 "cells": [
  {
   "cell_type": "code",
   "execution_count": 8,
   "id": "4f466777-9361-4036-be35-efacdb4bdaec",
   "metadata": {},
   "outputs": [],
   "source": [
    "from sympy import symbols, Eq, solve, simplify\n",
    "from sympy.physics.units import meter, second, kilogram, joule, kelvin, convert_to"
   ]
  },
  {
   "cell_type": "code",
   "execution_count": 11,
   "id": "cb7ab575-70fb-4103-9e22-3dfc66aa4d1e",
   "metadata": {},
   "outputs": [],
   "source": [
    "def ESI(radius: float, density: float, temperature: float, eVelocity: float):\n",
    "    planet = [radius, density, temperature, eVelocity]\n",
    "    earth = [6371000 * meter, 5514 * (kilogram / pow(meter, 3)), 288 * kelvin, 11186 * (meter / second)]\n",
    "    weights = [0.57, 1.07, 0.7, 0.7]\n",
    "    \n",
    "    calc = 1\n",
    "    for i in range(0, 4):\n",
    "        calc *= ( 1 - ((abs(planet[i] - earth[i])) / (earth[i])) ) ** weights[i]\n",
    "    return calc"
   ]
  },
  {
   "cell_type": "code",
   "execution_count": 15,
   "id": "e2f328eb-7a09-439f-82d7-7ef8a026fbd8",
   "metadata": {},
   "outputs": [
    {
     "name": "stdout",
     "output_type": "stream",
     "text": [
      "1\n"
     ]
    }
   ],
   "source": [
    "radius = 6371000 * meter\n",
    "density = 5514 * (kilogram / pow(meter, 3))\n",
    "temperature = 288 * kelvin\n",
    "eVelocity = 11186 * (meter / second)\n",
    "\n",
    "print(ESI(radius, density, temperature, eVelocity))"
   ]
  }
 ],
 "metadata": {
  "kernelspec": {
   "display_name": "Python 3 (ipykernel)",
   "language": "python",
   "name": "python3"
  },
  "language_info": {
   "codemirror_mode": {
    "name": "ipython",
    "version": 3
   },
   "file_extension": ".py",
   "mimetype": "text/x-python",
   "name": "python",
   "nbconvert_exporter": "python",
   "pygments_lexer": "ipython3",
   "version": "3.12.3"
  }
 },
 "nbformat": 4,
 "nbformat_minor": 5
}
