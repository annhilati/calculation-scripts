{
 "cells": [
  {
   "cell_type": "code",
   "execution_count": 4,
   "id": "26a19a3a-7713-44bb-9164-43c0c990e57e",
   "metadata": {},
   "outputs": [],
   "source": [
    "from sympy import symbols, Eq, solve\n",
    "from sympy.physics.units import meter, second, kilogram, joule, convert_to"
   ]
  },
  {
   "cell_type": "code",
   "execution_count": 5,
   "id": "3e30c60b-e543-4784-8b54-5f1f91ae28bd",
   "metadata": {},
   "outputs": [],
   "source": [
    "M, r = symbols(\"mass schwarzschildRadius\")\n",
    "\n",
    "c = 299792458 * (meter / second)\n",
    "G = 6.67430 * pow(10, -11) * (pow(meter, 3) / (kilogram * pow(second, 2)))\n",
    "\n",
    "calcSchwarzschildRadius = Eq((2 * G * M) / pow(c, 2), r)"
   ]
  },
  {
   "cell_type": "code",
   "execution_count": 6,
   "id": "b6b9fd74-8da5-4267-b221-4460962501ed",
   "metadata": {},
   "outputs": [
    {
     "name": "stdout",
     "output_type": "stream",
     "text": [
      "Eq(0.00886980582543533*meter, schwarzschildRadius)\n"
     ]
    }
   ],
   "source": [
    "mCalc = 5.972 * pow(10, 24) * kilogram\n",
    "\n",
    "rCalc = calcSchwarzschildRadius.subs({M: mCalc}).evalf()\n",
    "\n",
    "print(rCalc)"
   ]
  },
  {
   "cell_type": "code",
   "execution_count": null,
   "id": "62a532f8-25e5-4d4c-9547-12466b7989e6",
   "metadata": {},
   "outputs": [],
   "source": []
  }
 ],
 "metadata": {
  "kernelspec": {
   "display_name": "Python 3 (ipykernel)",
   "language": "python",
   "name": "python3"
  },
  "language_info": {
   "codemirror_mode": {
    "name": "ipython",
    "version": 3
   },
   "file_extension": ".py",
   "mimetype": "text/x-python",
   "name": "python",
   "nbconvert_exporter": "python",
   "pygments_lexer": "ipython3",
   "version": "3.12.3"
  }
 },
 "nbformat": 4,
 "nbformat_minor": 5
}
